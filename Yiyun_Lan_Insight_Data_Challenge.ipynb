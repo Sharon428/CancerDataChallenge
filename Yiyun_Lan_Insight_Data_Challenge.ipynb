{
 "cells": [
  {
   "cell_type": "code",
   "execution_count": 2,
   "metadata": {
    "collapsed": false
   },
   "outputs": [],
   "source": [
    "# Insight Data Challenge\n",
    "\n",
    "# Yiyun Lan \n",
    "\n",
    "#=====================\n",
    "# Problem Description\n",
    "#=====================\n",
    "\n",
    "# Data link\n",
    "# https://archive.ics.uci.edu/ml/machine-learning-databases/breast-cancer-wisconsin/breast-cancer-wisconsin.data\n",
    "# Format\n",
    "#1. Sample code number: id number \n",
    "#2. Clump Thickness: 1 - 10 \n",
    "#3. Uniformity of Cell Size: 1 - 10 \n",
    "#4. Uniformity of Cell Shape: 1 - 10 \n",
    "#5. Marginal Adhesion: 1 - 10 \n",
    "#6. Single Epithelial Cell Size: 1 - 10 \n",
    "#7. Bare Nuclei: 1 - 10 \n",
    "#8. Bland Chromatin: 1 - 10 \n",
    "#9. Normal Nucleoli: 1 - 10 \n",
    "#10. Mitoses: 1 - 10 \n",
    "#11. Class: (2 for benign, 4 for malignant)\n",
    "\n",
    "#=========\n",
    "# Approach\n",
    "#=========\n",
    "\n",
    "# 1. Data cleaning\n",
    "# 2. Descriptive analysis\n",
    "# 3. Training set: 75%, Testing Set: 25%, no cross-validation applied\n",
    "# 3. Feature analysis: correlation, covariance, relevance, importance\n",
    "# 4. Prediction 1) using Random Forest 2) using Linear Discriminant Analysis\n",
    "\n",
    "#========\n",
    "# Results\n",
    "#========\n",
    "\n",
    "# With all 9 features, Random Forest (tree number = 70) produced an overall prediction of 98.5% (Benign: 97%\n",
    "# Malignant: 100%). Linear Discriminant Analysis produced an overall prediction of 97.5% (Benign: 99%, Malignant: 95%)\n"
   ]
  },
  {
   "cell_type": "code",
   "execution_count": 363,
   "metadata": {
    "collapsed": false
   },
   "outputs": [],
   "source": [
    "import urllib\n",
    "import pandas as pd\n",
    "import sys\n",
    "from StringIO import StringIO\n",
    "import numpy as np\n",
    "import matplotlib.pyplot as plt\n",
    "import scipy.stats\n",
    "import sklearn.lda\n",
    "import sklearn.cross_validation\n",
    "from string import letters\n",
    "import seaborn as sns\n",
    "from collections import OrderedDict"
   ]
  },
  {
   "cell_type": "code",
   "execution_count": 293,
   "metadata": {
    "collapsed": false
   },
   "outputs": [],
   "source": [
    "# read in data and store it in df\n",
    "link = \"https://archive.ics.uci.edu/ml/machine-learning-databases/breast-cancer-wisconsin/breast-cancer-wisconsin.data\"\n",
    "f = urllib.urlopen(link)           \n",
    "myfile = f.read()\n",
    "names = ['sample_num', 'thickness', 'size', 'shape', 'adhesion', 'single_size',\n",
    "         'bare_nuclei', 'chromatin', 'normal_nucleoli', 'mitoses', 'label']\n",
    "df = pd.read_csv(StringIO(myfile), names = names)"
   ]
  },
  {
   "cell_type": "code",
   "execution_count": 294,
   "metadata": {
    "collapsed": false
   },
   "outputs": [],
   "source": [
    "# clean data\n",
    "df = df[df.bare_nuclei != '?']  # remove ? values in 16 rows in the 'bare_nuclei column\n",
    "df.bare_nuclei = pd.to_numeric(df.bare_nuclei) # convert string to numerical in the bare_nuclei column"
   ]
  },
  {
   "cell_type": "code",
   "execution_count": 95,
   "metadata": {
    "collapsed": false
   },
   "outputs": [
    {
     "data": {
      "image/png": "[encoded data removed]",
      "text/plain": [
       "<matplotlib.figure.Figure at 0x117280c50>"
      ]
     },
     "metadata": {},
     "output_type": "display_data"
    }
   ],
   "source": [
    "# sanity check\n",
    "%matplotlib inline\n",
    "## check no null/inf data\n",
    "df.replace([np.inf, -np.inf], np.nan)\n",
    "df.isnull().values.any() \n",
    "## check categorical data\n",
    "unique_values = [len(np.unique(df[i])) for i in names] \n",
    "plt.bar(range(df.shape[1]-2), unique_values[1:-1])\n",
    "plt.show()"
   ]
  },
  {
   "cell_type": "code",
   "execution_count": 219,
   "metadata": {
    "collapsed": false
   },
   "outputs": [
    {
     "data": {
      "text/plain": [
       "1.900414937759336"
      ]
     },
     "execution_count": 219,
     "metadata": {},
     "output_type": "execute_result"
    }
   ],
   "source": [
    "# descriptive analysis 1\n",
    "df.shape\n",
    "benign = df[df['class']== 2]\n",
    "malignant = df[df['class']== 4]\n",
    "1.0*len(benign)/len(malignant) # benign size is almost twice as malignant size"
   ]
  },
  {
   "cell_type": "code",
   "execution_count": 408,
   "metadata": {
    "collapsed": true
   },
   "outputs": [],
   "source": [
    "train, test = sklearn.cross_validation.train_test_split(df, test_size = 0.25, train_size = 0.75, random_state = 123)"
   ]
  },
  {
   "cell_type": "code",
   "execution_count": 412,
   "metadata": {
    "collapsed": false
   },
   "outputs": [
    {
     "data": {
      "text/plain": [
       "<matplotlib.colorbar.Colorbar at 0x120782c10>"
      ]
     },
     "execution_count": 412,
     "metadata": {},
     "output_type": "execute_result"
    },
    {
     "data": {
      "image/png": "[encoded data removed]",
      "text/plain": [
       "<matplotlib.figure.Figure at 0x122773b50>"
      ]
     },
     "metadata": {},
     "output_type": "display_data"
    }
   ],
   "source": [
    "# size and shape are correlated features, so they are subject to being redundant \n",
    "plt.pcolor(np.abs(np.corrcoef(train.T)))\n",
    "plt.colorbar()"
   ]
  },
  {
   "cell_type": "code",
   "execution_count": 413,
   "metadata": {
    "collapsed": false
   },
   "outputs": [
    {
     "data": {
      "text/plain": [
       "<matplotlib.axes._subplots.AxesSubplot at 0x11e157690>"
      ]
     },
     "execution_count": 413,
     "metadata": {},
     "output_type": "execute_result"
    },
    {
     "data": {
      "image/png": "[encoded data removed]",
      "text/plain": [
       "<matplotlib.figure.Figure at 0x122213c10>"
      ]
     },
     "metadata": {},
     "output_type": "display_data"
    }
   ],
   "source": [
    "# covariance matrix: all features have similar covariance with the label class.\n",
    "sns.set(style=\"white\")\n",
    "\n",
    "## Compute the correlation matrix\n",
    "corr = np.cov(train.drop('sample_num',1).T)\n",
    "\n",
    "## Generate a mask for the upper triangle\n",
    "mask = np.zeros_like(corr, dtype=np.bool)\n",
    "mask[np.triu_indices_from(mask)] = True\n",
    "\n",
    "## Set up the matplotlib figure\n",
    "f, ax = plt.subplots(figsize=(11, 9))\n",
    "\n",
    "## Generate a custom diverging colormap\n",
    "cmap = sns.diverging_palette(220, 10, as_cmap=True)\n",
    "\n",
    "## Draw the heatmap with the mask and correct aspect ratio\n",
    "sns.heatmap(corr, mask=mask, cmap=cmap)"
   ]
  },
  {
   "cell_type": "code",
   "execution_count": 414,
   "metadata": {
    "collapsed": false
   },
   "outputs": [
    {
     "data": {
      "text/plain": [
       "<matplotlib.collections.PathCollection at 0x123512f10>"
      ]
     },
     "execution_count": 414,
     "metadata": {},
     "output_type": "execute_result"
    },
    {
     "data": {
      "image/png": "[encoded data removed]",
      "text/plain": [
       "<matplotlib.figure.Figure at 0x120b00550>"
      ]
     },
     "metadata": {},
     "output_type": "display_data"
    }
   ],
   "source": [
    "# feature relevance test\n",
    "F = len(names[1:])\n",
    "probabilities = [scipy.stats.mannwhitneyu(train[train.label==2][i], train[train.label==4][i])[1] for i in names[1:]]\n",
    "plt.scatter(range(F), probabilities, 100)"
   ]
  },
  {
   "cell_type": "code",
   "execution_count": 415,
   "metadata": {
    "collapsed": false
   },
   "outputs": [
    {
     "name": "stdout",
     "output_type": "stream",
     "text": [
      "0.955165912519 0.0178465538613\n"
     ]
    }
   ],
   "source": [
    "model = sklearn.lda.LDA()\n",
    "scores = sklearn.cross_validation.cross_val_score(model, train.drop(['label'], 1), train.label, cv=5)\n",
    "print np.mean(scores), np.std(scores)"
   ]
  },
  {
   "cell_type": "code",
   "execution_count": 420,
   "metadata": {
    "collapsed": false
   },
   "outputs": [
    {
     "data": {
      "text/plain": [
       "<Container object of 9 artists>"
      ]
     },
     "execution_count": 420,
     "metadata": {},
     "output_type": "execute_result"
    },
    {
     "data": {
      "image/png": "[encoded data removed]",
      "text/plain": [
       "<matplotlib.figure.Figure at 0x122773dd0>"
      ]
     },
     "metadata": {},
     "output_type": "display_data"
    }
   ],
   "source": [
    "# Feature Importance\n",
    "from sklearn import datasets\n",
    "from sklearn import metrics\n",
    "# load the iris datasets\n",
    "dataset = train.drop(['sample_num','label'], 1)\n",
    "# fit an Extra Trees model to the data\n",
    "model = sklearn.ensemble.RandomForestClassifier()\n",
    "model.fit(dataset, train.label)\n",
    "# display the relative importance of each attribute\n",
    "plt.bar(range(9), model.feature_importances_)"
   ]
  },
  {
   "cell_type": "code",
   "execution_count": 421,
   "metadata": {
    "collapsed": false
   },
   "outputs": [
    {
     "name": "stdout",
     "output_type": "stream",
     "text": [
      "[False  True False False False  True False  True False]\n",
      "[5 1 2 6 3 1 4 1 7]\n"
     ]
    }
   ],
   "source": [
    "# Recursive Feature Elimination\n",
    "from sklearn import datasets\n",
    "from sklearn.feature_selection import RFE\n",
    "\n",
    "# load the iris datasets\n",
    "dataset = train.drop(['sample_num','label'], 1)\n",
    "# create a base classifier used to evaluate a subset of attributes\n",
    "model = sklearn.ensemble.RandomForestClassifier()\n",
    "# create the RFE model and select 3 attributes\n",
    "rfe = RFE(model, 3)\n",
    "rfe = rfe.fit(dataset, train.label)\n",
    "# summarize the selection of the attributes\n",
    "print(rfe.support_)\n",
    "print(rfe.ranking_)"
   ]
  },
  {
   "cell_type": "code",
   "execution_count": 423,
   "metadata": {
    "collapsed": false
   },
   "outputs": [],
   "source": [
    "scores = sklearn.cross_validation.cross_val_score(model, train.drop(['label'],1), train['label'], cv=3)\n",
    "train_scale = sklearn.preprocessing.StandardScaler().fit(train.drop(['label'],1))\n",
    "train_transform = train_scale.transform(train.drop(['label'],1))\n",
    "test_scale = sklearn.preprocessing.StandardScaler().fit(test.drop(['label'],1))\n",
    "test_transform = train_scale.transform(test.drop(['label'],1))"
   ]
  },
  {
   "cell_type": "code",
   "execution_count": 424,
   "metadata": {
    "collapsed": false
   },
   "outputs": [
    {
     "name": "stderr",
     "output_type": "stream",
     "text": [
      "/Users/lanyiyun/anaconda/lib/python2.7/site-packages/sklearn/ensemble/forest.py:403: UserWarning: Some inputs do not have OOB scores. This probably means too few trees were used to compute any reliable oob estimates.\n",
      "  warn(\"Some inputs do not have OOB scores. \"\n"
     ]
    },
    {
     "data": {
      "image/png": "[encoded data removed]",
      "text/plain": [
       "<matplotlib.figure.Figure at 0x120b53550>"
      ]
     },
     "metadata": {},
     "output_type": "display_data"
    }
   ],
   "source": [
    "# estimate the number of trees needed to reach certain prediction accuracy\n",
    "\n",
    "RANDOM_STATE = 123\n",
    "ensemble_clfs = [\n",
    "  (\"RandomForestClassifier, max_features='sqrt'\",\n",
    "      RandomForestClassifier(warm_start=False, oob_score=True,\n",
    "                             max_features=\"sqrt\",\n",
    "                             random_state=RANDOM_STATE)),\n",
    "  (\"RandomForestClassifier, max_features='log2'\",\n",
    "      RandomForestClassifier(warm_start=False, max_features='log2',\n",
    "                             oob_score=True,\n",
    "                             random_state=RANDOM_STATE)),\n",
    "  (\"RandomForestClassifier, max_features=None\",\n",
    "      RandomForestClassifier(warm_start=False, max_features=None,\n",
    "                             oob_score=True,\n",
    "                             random_state=RANDOM_STATE))\n",
    "]\n",
    "\n",
    "# Map a classifier name to a list of (<n_estimators>, <error rate>) pairs.\n",
    "error_rate = OrderedDict((label, []) for label, _ in ensemble_clfs)\n",
    "\n",
    "# Range of `n_estimators` values to explore.\n",
    "min_estimators = 10\n",
    "max_estimators = 550\n",
    "\n",
    "for label, clf in ensemble_clfs:\n",
    "    for i in range(min_estimators, max_estimators,10):\n",
    "        clf.set_params(n_estimators=i)\n",
    "        clf.fit(train_transform, train['label'])\n",
    "\n",
    "        # Record the OOB error for each `n_estimators=i` setting.\n",
    "        oob_error = clf.oob_score_\n",
    "        error_rate[label].append((i, oob_error))\n",
    "\n",
    "# Generate the \"OOB error rate\" vs. \"n_estimators\" plot.\n",
    "for label, clf_err in error_rate.items():\n",
    "    xs, ys = zip(*clf_err)\n",
    "    plt.plot(xs, ys, label=label)\n",
    "\n",
    "plt.xlim(min_estimators, max_estimators)\n",
    "plt.xlabel(\"n_estimators\")\n",
    "plt.ylabel(\"OOB error rate\")\n",
    "plt.legend(loc=\"lower right\")\n",
    "plt.show()"
   ]
  },
  {
   "cell_type": "code",
   "execution_count": 434,
   "metadata": {
    "collapsed": false
   },
   "outputs": [
    {
     "name": "stdout",
     "output_type": "stream",
     "text": [
      "('1st sample from test dataset classified as:', array([2, 2, 2, 2, 2, 2, 2, 2, 4, 2, 2, 2, 2, 2, 4, 2, 2, 2, 2, 4, 4, 2, 4,\n",
      "       2, 2, 2, 2, 2, 4, 2, 2, 4, 4, 4, 2, 2, 2, 2, 2, 2, 2, 4, 2, 2, 2, 4,\n",
      "       2, 2, 4, 4, 2, 4, 2, 4, 2, 2, 2, 2, 2, 4, 2, 2, 2, 4, 4, 2, 4, 2, 4,\n",
      "       2, 2, 4, 4, 4, 2, 2, 2, 2, 2, 4, 2, 2, 4, 2, 4, 4, 2, 4, 2, 4, 2, 2,\n",
      "       4, 4, 4, 2, 4, 2, 2, 2, 2, 2, 4, 4, 2, 4, 2, 4, 2, 4, 2, 2, 4, 2, 2,\n",
      "       4, 4, 2, 2, 2, 2, 2, 4, 2, 4, 4, 2, 2, 4, 4, 2, 2, 4, 4, 2, 4, 4, 2,\n",
      "       2, 4, 4, 2, 2, 2, 2, 2, 2, 4, 4, 4, 2, 2, 2, 4, 4, 2, 4, 4, 2, 4, 2,\n",
      "       4, 2, 2, 4, 2, 2, 4, 4, 4, 4]))\n",
      "('actual class label:', 154    2\n",
      "687    2\n",
      "80     2\n",
      "269    2\n",
      "136    2\n",
      "573    2\n",
      "81     2\n",
      "476    2\n",
      "59     4\n",
      "216    2\n",
      "45     2\n",
      "170    2\n",
      "548    2\n",
      "428    2\n",
      "296    2\n",
      "520    2\n",
      "168    2\n",
      "587    2\n",
      "141    2\n",
      "206    4\n",
      "187    4\n",
      "473    2\n",
      "358    4\n",
      "380    2\n",
      "664    2\n",
      "11     2\n",
      "623    2\n",
      "622    2\n",
      "227    4\n",
      "392    2\n",
      "      ..\n",
      "630    2\n",
      "649    2\n",
      "176    2\n",
      "459    2\n",
      "208    2\n",
      "618    2\n",
      "124    4\n",
      "42     4\n",
      "104    4\n",
      "684    2\n",
      "451    2\n",
      "363    2\n",
      "68     4\n",
      "151    4\n",
      "309    2\n",
      "201    4\n",
      "436    4\n",
      "382    2\n",
      "160    4\n",
      "77     2\n",
      "590    4\n",
      "524    2\n",
      "580    2\n",
      "103    4\n",
      "194    2\n",
      "537    2\n",
      "233    4\n",
      "123    4\n",
      "359    4\n",
      "479    4\n",
      "Name: label, dtype: int64)\n",
      "Confusion Matrix of the LDA-classifier\n",
      "[[105   3]\n",
      " [  0  63]]\n",
      "Normalized confusion matrix\n",
      "[[ 0.97  0.03]\n",
      " [ 0.    1.  ]]\n"
     ]
    },
    {
     "data": {
      "image/png": "[encoded data removed]",
      "text/plain": [
       "<matplotlib.figure.Figure at 0x1245b7ad0>"
      ]
     },
     "metadata": {},
     "output_type": "display_data"
    }
   ],
   "source": [
    "# fit model\n",
    "## RF model with 70 trees\n",
    "lda_clf = sklearn.ensemble.RandomForestClassifier(70)\n",
    "#lda_clf = sklearn.ensemble.RandomForestClassifier(n_estimators=15)\n",
    "lda_clf.fit(train_transform, train['label'])\n",
    "# sklearn.lda.LDA(n_components=None, priors=None)\n",
    "\n",
    "# prediction\n",
    "print('1st sample from test dataset classified as:', lda_clf.predict(test_transform))\n",
    "print('actual class label:', test['label'])\n",
    "# confusion matrix\n",
    "print('Confusion Matrix of the LDA-classifier')\n",
    "print(metrics.confusion_matrix(test['label'], lda_clf.predict(test_transform)))\n",
    "\n",
    "def plot_confusion_matrix(cm, title='Confusion matrix', cmap=plt.cm.Blues):\n",
    "    plt.imshow(cm, interpolation='nearest', cmap=cmap)\n",
    "    plt.title(title)\n",
    "    plt.colorbar()\n",
    "    tick_marks = np.arange(2)\n",
    "    plt.xticks(tick_marks, ['Benign', 'Malignant'])\n",
    "    plt.yticks(tick_marks, ['Benign', 'Malignant'])\n",
    "    plt.tight_layout()\n",
    "    plt.ylabel('True label')\n",
    "    plt.xlabel('Predicted label')\n",
    "\n",
    "y_pred = lda_clf.predict(test_transform)\n",
    "y_test = test['label']\n",
    "    \n",
    "# Compute confusion matrix\n",
    "cm = sklearn.metrics.confusion_matrix(y_test, y_pred)\n",
    "np.set_printoptions(precision=2)\n",
    "\n",
    "# Normalize the confusion matrix by row (i.e by the number of samples\n",
    "# in each class)\n",
    "cm_normalized = cm.astype('float') / cm.sum(axis=1)[:, np.newaxis]\n",
    "print('Normalized confusion matrix')\n",
    "print(cm_normalized)\n",
    "plt.figure()\n",
    "plot_confusion_matrix(cm_normalized, title='Normalized confusion matrix')\n",
    "\n",
    "plt.show()"
   ]
  },
  {
   "cell_type": "code",
   "execution_count": 427,
   "metadata": {
    "collapsed": false
   },
   "outputs": [
    {
     "name": "stdout",
     "output_type": "stream",
     "text": [
      "('1st sample from test dataset classified as:', array([2, 2, 2, 2, 2, 2, 2, 2, 2, 2, 2, 2, 2, 2, 4, 2, 2, 2, 2, 4, 4, 2, 4,\n",
      "       2, 2, 2, 2, 2, 4, 2, 2, 4, 4, 2, 2, 2, 2, 2, 2, 2, 2, 4, 2, 2, 2, 4,\n",
      "       2, 2, 4, 4, 2, 4, 2, 2, 2, 2, 2, 2, 2, 4, 2, 2, 2, 4, 4, 2, 4, 2, 4,\n",
      "       2, 2, 4, 4, 4, 2, 2, 2, 2, 2, 4, 2, 2, 4, 2, 4, 4, 2, 4, 2, 4, 2, 2,\n",
      "       4, 4, 4, 2, 4, 2, 2, 2, 2, 2, 4, 4, 2, 4, 2, 4, 2, 4, 2, 2, 4, 2, 2,\n",
      "       4, 4, 2, 2, 2, 2, 2, 4, 2, 2, 4, 2, 2, 4, 4, 2, 2, 4, 4, 2, 4, 4, 2,\n",
      "       2, 4, 4, 2, 2, 2, 2, 2, 2, 4, 4, 4, 2, 2, 2, 4, 4, 2, 4, 4, 2, 4, 2,\n",
      "       4, 2, 2, 2, 2, 2, 4, 4, 4, 4]))\n",
      "('actual class label:', 154    2\n",
      "687    2\n",
      "80     2\n",
      "269    2\n",
      "136    2\n",
      "573    2\n",
      "81     2\n",
      "476    2\n",
      "59     4\n",
      "216    2\n",
      "45     2\n",
      "170    2\n",
      "548    2\n",
      "428    2\n",
      "296    2\n",
      "520    2\n",
      "168    2\n",
      "587    2\n",
      "141    2\n",
      "206    4\n",
      "187    4\n",
      "473    2\n",
      "358    4\n",
      "380    2\n",
      "664    2\n",
      "11     2\n",
      "623    2\n",
      "622    2\n",
      "227    4\n",
      "392    2\n",
      "      ..\n",
      "630    2\n",
      "649    2\n",
      "176    2\n",
      "459    2\n",
      "208    2\n",
      "618    2\n",
      "124    4\n",
      "42     4\n",
      "104    4\n",
      "684    2\n",
      "451    2\n",
      "363    2\n",
      "68     4\n",
      "151    4\n",
      "309    2\n",
      "201    4\n",
      "436    4\n",
      "382    2\n",
      "160    4\n",
      "77     2\n",
      "590    4\n",
      "524    2\n",
      "580    2\n",
      "103    4\n",
      "194    2\n",
      "537    2\n",
      "233    4\n",
      "123    4\n",
      "359    4\n",
      "479    4\n",
      "Name: label, dtype: int64)\n",
      "Confusion Matrix of the LDA-classifier\n",
      "[[107   1]\n",
      " [  3  60]]\n",
      "Normalized confusion matrix\n",
      "[[ 0.99  0.01]\n",
      " [ 0.05  0.95]]\n"
     ]
    },
    {
     "data": {
      "image/png": "[encoded data removed]",
      "text/plain": [
       "<matplotlib.figure.Figure at 0x11e38dfd0>"
      ]
     },
     "metadata": {},
     "output_type": "display_data"
    }
   ],
   "source": [
    "# fit model\n",
    "## lda model\n",
    "lda_clf = sklearn.lda.LDA()\n",
    "#lda_clf = sklearn.ensemble.RandomForestClassifier(n_estimators=15)\n",
    "lda_clf.fit(train_transform, train['label'])\n",
    "# sklearn.lda.LDA(n_components=None, priors=None)\n",
    "\n",
    "# prediction\n",
    "print('1st sample from test dataset classified as:', lda_clf.predict(test_transform))\n",
    "print('actual class label:', test['label'])\n",
    "# confusion matrix\n",
    "print('Confusion Matrix of the LDA-classifier')\n",
    "print(metrics.confusion_matrix(test['label'], lda_clf.predict(test_transform)))\n",
    "\n",
    "def plot_confusion_matrix(cm, title='Confusion matrix', cmap=plt.cm.Blues):\n",
    "    plt.imshow(cm, interpolation='nearest', cmap=cmap)\n",
    "    plt.title(title)\n",
    "    plt.colorbar()\n",
    "    tick_marks = np.arange(2)\n",
    "    plt.xticks(tick_marks, ['Benign', 'Malignant'])\n",
    "    plt.yticks(tick_marks, ['Benign', 'Malignant'])\n",
    "    plt.tight_layout()\n",
    "    plt.ylabel('True label')\n",
    "    plt.xlabel('Predicted label')\n",
    "\n",
    "y_pred = lda_clf.predict(test_transform)\n",
    "y_test = test['label']\n",
    "    \n",
    "# Compute confusion matrix\n",
    "cm = sklearn.metrics.confusion_matrix(y_test, y_pred)\n",
    "np.set_printoptions(precision=2)\n",
    "\n",
    "# Normalize the confusion matrix by row (i.e by the number of samples\n",
    "# in each class)\n",
    "cm_normalized = cm.astype('float') / cm.sum(axis=1)[:, np.newaxis]\n",
    "print('Normalized confusion matrix')\n",
    "print(cm_normalized)\n",
    "plt.figure()\n",
    "plot_confusion_matrix(cm_normalized, title='Normalized confusion matrix')\n",
    "\n",
    "plt.show()"
   ]
  },
  {
   "cell_type": "code",
   "execution_count": null,
   "metadata": {
    "collapsed": false
   },
   "outputs": [],
   "source": []
  },
  {
   "cell_type": "code",
   "execution_count": null,
   "metadata": {
    "collapsed": true
   },
   "outputs": [],
   "source": []
  }
 ],
 "metadata": {
  "kernelspec": {
   "display_name": "Python 2",
   "language": "python",
   "name": "python2"
  },
  "language_info": {
   "codemirror_mode": {
    "name": "ipython",
    "version": 2
   },
   "file_extension": ".py",
   "mimetype": "text/x-python",
   "name": "python",
   "nbconvert_exporter": "python",
   "pygments_lexer": "ipython2",
   "version": "2.7.11"
  }
 },
 "nbformat": 4,
 "nbformat_minor": 0
}
